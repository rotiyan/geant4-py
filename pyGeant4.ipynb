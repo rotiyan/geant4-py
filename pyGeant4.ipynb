{
 "cells": [
  {
   "cell_type": "code",
   "execution_count": null,
   "metadata": {},
   "outputs": [],
   "source": [
    "from Geant4 import *\n",
    "import ROOT"
   ]
  },
  {
   "cell_type": "code",
   "execution_count": null,
   "metadata": {},
   "outputs": [],
   "source": [
    "brDict={}\n",
    "from array import array \n",
    "fOut = ROOT.TFile.Open(\"output.root\",\"RECREATE\")\n",
    "fTree= ROOT.TTree(\"G4Tree\",\"G4Tree\")\n",
    "brDict[\"dEdX\"] = array(\"d\",[0])\n",
    "brDict[\"stepL\"]= array(\"d\",[0])\n",
    "fTree.Branch(\"dEdX\",brDict[\"dEdX\"],\"dEdX/D\")\n",
    "fTree.Branch(\"stepL\",brDict[\"stepL\"],\"stepL/D\")\n",
    "\n",
    "from detector import MyDetector\n",
    "det = MyDetector(fTree,brDict)\n",
    "gRunManager.SetUserInitialization(det)"
   ]
  },
  {
   "cell_type": "code",
   "execution_count": null,
   "metadata": {},
   "outputs": [],
   "source": [
    "physics_list = FTFP_BERT()\n",
    "gRunManager.SetUserInitialization(physics_list)"
   ]
  },
  {
   "cell_type": "code",
   "execution_count": null,
   "metadata": {},
   "outputs": [],
   "source": [
    "from PrimaryGeneratorAction import GeneratorAction\n",
    "pmga = GeneratorAction()\n",
    "gRunManager.SetUserAction(pmga)"
   ]
  },
  {
   "cell_type": "code",
   "execution_count": null,
   "metadata": {},
   "outputs": [],
   "source": [
    "from UserAction import MyRunAction\n",
    "myRA = MyRunAction()\n",
    "gRunManager.SetUserAction(myRA)\n",
    "\n",
    "from UserAction import MySteppingAction\n",
    "mySA = MySteppingAction()\n",
    "gRunManager.SetUserAction(mySA)"
   ]
  },
  {
   "cell_type": "code",
   "execution_count": null,
   "metadata": {},
   "outputs": [],
   "source": [
    "gRunManager.Initialize()"
   ]
  },
  {
   "cell_type": "code",
   "execution_count": null,
   "metadata": {},
   "outputs": [],
   "source": [
    "%%file macros/dawn.mac\n",
    "\n",
    "/vis/open DAWNFILE\n",
    "\n",
    "/vis/scene/create\n",
    "/vis/scene/add/volume\n",
    "\n",
    "/vis/scene/add/trajectories smooth\n",
    "/vis/modeling/trajectories/create/drawByParticleID PID\n",
    "/vis/modeling/trajectories/PID/set mu+ red\n",
    "/vis/modeling/trajectories/PID/set mu- red\n",
    "/vis/modeling/trajectories/PID/set e- blue\n",
    "/vis/modeling/trajectories/PID/set e+ blue\n",
    "/vis/modeling/trajectories/PID/set gamma green \n",
    "#/vis/modeling/trajectories/create/drawByCharge\n",
    "#/vis/modeling/trajectories/drawByCharge-0/default/setDrawStepPts true\n",
    "#/vis/modeling/trajectories/drawByCharge-0/default/setStepPtsSize 2\n",
    "\n",
    "/vis/scene/endOfEventAction accumulate 1000\n",
    "\n",
    "/vis/scene/add/hits\n",
    "\n",
    "/vis/sceneHandler/attach\n",
    "#/vis/scene/add/axes 0. 0. 0. 10. cm\n",
    "\n",
    "/vis/viewer/set/targetPoint 0.0 0.0 300.0 mm\n",
    "/vis/viewer/set/viewpointThetaPhi 50 10\n",
    "\n",
    "/vis/viewer/zoom 1"
   ]
  },
  {
   "cell_type": "code",
   "execution_count": null,
   "metadata": {},
   "outputs": [],
   "source": [
    "gUImanager.ExecuteMacroFile('macros/dawn.mac')\n",
    "gRunManager.BeamOn(100)\n",
    "!mv g4_0000.prim images/world.prim\n",
    "fTree.Write()\n",
    "fOut.Close()"
   ]
  },
  {
   "cell_type": "code",
   "execution_count": null,
   "metadata": {},
   "outputs": [],
   "source": [
    "f = ROOT.TFile.Open(\"output.root\")\n",
    "g4tree = f.G4Tree\n",
    "c = ROOT.TCanvas()\n",
    "g4tree.Draw(\"dEdX\")\n",
    "ROOT.gPad.SetLogy(1)\n",
    "c.Draw()"
   ]
  },
  {
   "cell_type": "code",
   "execution_count": null,
   "metadata": {},
   "outputs": [],
   "source": [
    "!dawn -d images/world.prim\n",
    "!convert images/world.eps images/world.png\n"
   ]
  },
  {
   "cell_type": "code",
   "execution_count": null,
   "metadata": {},
   "outputs": [],
   "source": [
    "from IPython.display import Image\n",
    "Image(\"images/world.png\")"
   ]
  },
  {
   "cell_type": "code",
   "execution_count": null,
   "metadata": {},
   "outputs": [],
   "source": []
  }
 ],
 "metadata": {
  "kernelspec": {
   "display_name": "Python 2",
   "language": "python",
   "name": "python2"
  },
  "language_info": {
   "codemirror_mode": {
    "name": "ipython",
    "version": 2
   },
   "file_extension": ".py",
   "mimetype": "text/x-python",
   "name": "python",
   "nbconvert_exporter": "python",
   "pygments_lexer": "ipython2",
   "version": "2.7.17"
  }
 },
 "nbformat": 4,
 "nbformat_minor": 2
}
